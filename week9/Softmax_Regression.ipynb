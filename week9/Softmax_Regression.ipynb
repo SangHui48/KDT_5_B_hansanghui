{
  "cells": [
    {
      "cell_type": "code",
      "execution_count": 1,
      "metadata": {
        "id": "XwqQKYV05dW_"
      },
      "outputs": [],
      "source": [
        "import numpy as np\n",
        "import matplotlib.pyplot as plt\n",
        "from sklearn.datasets import make_classification\n",
        "import seaborn as sns"
      ]
    },
    {
      "cell_type": "code",
      "execution_count": 2,
      "metadata": {
        "colab": {
          "base_uri": "https://localhost:8080/"
        },
        "id": "vbzq6Q-F5dXE",
        "outputId": "13e8eb4a-f628-4367-9049-296729226313"
      },
      "outputs": [
        {
          "output_type": "stream",
          "name": "stderr",
          "text": [
            "/usr/local/lib/python3.10/dist-packages/sklearn/datasets/_openml.py:968: FutureWarning: The default value of `parser` will change from `'liac-arff'` to `'auto'` in 1.4. You can set `parser='auto'` to silence this warning. Therefore, an `ImportError` will be raised from 1.4 if the dataset is dense and pandas is not installed. Note that the pandas parser may return different data types. See the Notes Section in fetch_openml's API doc for details.\n",
            "  warn(\n"
          ]
        },
        {
          "output_type": "execute_result",
          "data": {
            "text/plain": [
              "dict_keys(['data', 'target', 'frame', 'categories', 'feature_names', 'target_names', 'DESCR', 'details', 'url'])"
            ]
          },
          "metadata": {},
          "execution_count": 2
        }
      ],
      "source": [
        "from sklearn.datasets import fetch_openml\n",
        "mnist = fetch_openml('mnist_784', version=1, cache=True)\n",
        "mnist.keys()"
      ]
    },
    {
      "cell_type": "code",
      "execution_count": 3,
      "metadata": {
        "id": "X8PMX8Vb5dXF"
      },
      "outputs": [],
      "source": [
        "X, y = mnist[\"data\"], mnist[\"target\"]"
      ]
    },
    {
      "cell_type": "code",
      "source": [
        "X.shape, y.shape"
      ],
      "metadata": {
        "colab": {
          "base_uri": "https://localhost:8080/"
        },
        "id": "nVIxq5G3Id0-",
        "outputId": "67a2c695-166b-4ddb-d8a8-652bbee1e3dc"
      },
      "execution_count": 4,
      "outputs": [
        {
          "output_type": "execute_result",
          "data": {
            "text/plain": [
              "((70000, 784), (70000,))"
            ]
          },
          "metadata": {},
          "execution_count": 4
        }
      ]
    },
    {
      "cell_type": "code",
      "source": [
        "print(X.iloc[0, :])\n",
        "print(y[:10])"
      ],
      "metadata": {
        "colab": {
          "base_uri": "https://localhost:8080/"
        },
        "id": "boXZtrF_IhJg",
        "outputId": "27ade96b-5f85-4823-a53e-379ad0205008"
      },
      "execution_count": 5,
      "outputs": [
        {
          "output_type": "stream",
          "name": "stdout",
          "text": [
            "pixel1      0.0\n",
            "pixel2      0.0\n",
            "pixel3      0.0\n",
            "pixel4      0.0\n",
            "pixel5      0.0\n",
            "           ... \n",
            "pixel780    0.0\n",
            "pixel781    0.0\n",
            "pixel782    0.0\n",
            "pixel783    0.0\n",
            "pixel784    0.0\n",
            "Name: 0, Length: 784, dtype: float64\n",
            "0    5\n",
            "1    0\n",
            "2    4\n",
            "3    1\n",
            "4    9\n",
            "5    2\n",
            "6    1\n",
            "7    3\n",
            "8    1\n",
            "9    4\n",
            "Name: class, dtype: category\n",
            "Categories (10, object): ['0', '1', '2', '3', ..., '6', '7', '8', '9']\n"
          ]
        }
      ]
    },
    {
      "cell_type": "code",
      "execution_count": 6,
      "metadata": {
        "id": "Vp0pF0En5dXF"
      },
      "outputs": [],
      "source": [
        "y = y.astype(np.uint8)"
      ]
    },
    {
      "cell_type": "code",
      "execution_count": 7,
      "metadata": {
        "id": "TgJT1FAp5dXG"
      },
      "outputs": [],
      "source": [
        "from sklearn.preprocessing import OneHotEncoder\n",
        "enc = OneHotEncoder()"
      ]
    },
    {
      "cell_type": "code",
      "execution_count": 8,
      "metadata": {
        "colab": {
          "base_uri": "https://localhost:8080/",
          "height": 111
        },
        "id": "_H4rb4_i5dXG",
        "outputId": "174598f9-255d-49d5-cb64-88f3d72c908a"
      },
      "outputs": [
        {
          "output_type": "stream",
          "name": "stderr",
          "text": [
            "<ipython-input-8-78fc683d5810>:1: FutureWarning: Support for multi-dimensional indexing (e.g. `obj[:, None]`) is deprecated and will be removed in a future version.  Convert to a numpy array before indexing instead.\n",
            "  enc.fit(y[:,np.newaxis])\n"
          ]
        },
        {
          "output_type": "execute_result",
          "data": {
            "text/plain": [
              "OneHotEncoder()"
            ],
            "text/html": [
              "<style>#sk-container-id-1 {color: black;background-color: white;}#sk-container-id-1 pre{padding: 0;}#sk-container-id-1 div.sk-toggleable {background-color: white;}#sk-container-id-1 label.sk-toggleable__label {cursor: pointer;display: block;width: 100%;margin-bottom: 0;padding: 0.3em;box-sizing: border-box;text-align: center;}#sk-container-id-1 label.sk-toggleable__label-arrow:before {content: \"▸\";float: left;margin-right: 0.25em;color: #696969;}#sk-container-id-1 label.sk-toggleable__label-arrow:hover:before {color: black;}#sk-container-id-1 div.sk-estimator:hover label.sk-toggleable__label-arrow:before {color: black;}#sk-container-id-1 div.sk-toggleable__content {max-height: 0;max-width: 0;overflow: hidden;text-align: left;background-color: #f0f8ff;}#sk-container-id-1 div.sk-toggleable__content pre {margin: 0.2em;color: black;border-radius: 0.25em;background-color: #f0f8ff;}#sk-container-id-1 input.sk-toggleable__control:checked~div.sk-toggleable__content {max-height: 200px;max-width: 100%;overflow: auto;}#sk-container-id-1 input.sk-toggleable__control:checked~label.sk-toggleable__label-arrow:before {content: \"▾\";}#sk-container-id-1 div.sk-estimator input.sk-toggleable__control:checked~label.sk-toggleable__label {background-color: #d4ebff;}#sk-container-id-1 div.sk-label input.sk-toggleable__control:checked~label.sk-toggleable__label {background-color: #d4ebff;}#sk-container-id-1 input.sk-hidden--visually {border: 0;clip: rect(1px 1px 1px 1px);clip: rect(1px, 1px, 1px, 1px);height: 1px;margin: -1px;overflow: hidden;padding: 0;position: absolute;width: 1px;}#sk-container-id-1 div.sk-estimator {font-family: monospace;background-color: #f0f8ff;border: 1px dotted black;border-radius: 0.25em;box-sizing: border-box;margin-bottom: 0.5em;}#sk-container-id-1 div.sk-estimator:hover {background-color: #d4ebff;}#sk-container-id-1 div.sk-parallel-item::after {content: \"\";width: 100%;border-bottom: 1px solid gray;flex-grow: 1;}#sk-container-id-1 div.sk-label:hover label.sk-toggleable__label {background-color: #d4ebff;}#sk-container-id-1 div.sk-serial::before {content: \"\";position: absolute;border-left: 1px solid gray;box-sizing: border-box;top: 0;bottom: 0;left: 50%;z-index: 0;}#sk-container-id-1 div.sk-serial {display: flex;flex-direction: column;align-items: center;background-color: white;padding-right: 0.2em;padding-left: 0.2em;position: relative;}#sk-container-id-1 div.sk-item {position: relative;z-index: 1;}#sk-container-id-1 div.sk-parallel {display: flex;align-items: stretch;justify-content: center;background-color: white;position: relative;}#sk-container-id-1 div.sk-item::before, #sk-container-id-1 div.sk-parallel-item::before {content: \"\";position: absolute;border-left: 1px solid gray;box-sizing: border-box;top: 0;bottom: 0;left: 50%;z-index: -1;}#sk-container-id-1 div.sk-parallel-item {display: flex;flex-direction: column;z-index: 1;position: relative;background-color: white;}#sk-container-id-1 div.sk-parallel-item:first-child::after {align-self: flex-end;width: 50%;}#sk-container-id-1 div.sk-parallel-item:last-child::after {align-self: flex-start;width: 50%;}#sk-container-id-1 div.sk-parallel-item:only-child::after {width: 0;}#sk-container-id-1 div.sk-dashed-wrapped {border: 1px dashed gray;margin: 0 0.4em 0.5em 0.4em;box-sizing: border-box;padding-bottom: 0.4em;background-color: white;}#sk-container-id-1 div.sk-label label {font-family: monospace;font-weight: bold;display: inline-block;line-height: 1.2em;}#sk-container-id-1 div.sk-label-container {text-align: center;}#sk-container-id-1 div.sk-container {/* jupyter's `normalize.less` sets `[hidden] { display: none; }` but bootstrap.min.css set `[hidden] { display: none !important; }` so we also need the `!important` here to be able to override the default hidden behavior on the sphinx rendered scikit-learn.org. See: https://github.com/scikit-learn/scikit-learn/issues/21755 */display: inline-block !important;position: relative;}#sk-container-id-1 div.sk-text-repr-fallback {display: none;}</style><div id=\"sk-container-id-1\" class=\"sk-top-container\"><div class=\"sk-text-repr-fallback\"><pre>OneHotEncoder()</pre><b>In a Jupyter environment, please rerun this cell to show the HTML representation or trust the notebook. <br />On GitHub, the HTML representation is unable to render, please try loading this page with nbviewer.org.</b></div><div class=\"sk-container\" hidden><div class=\"sk-item\"><div class=\"sk-estimator sk-toggleable\"><input class=\"sk-toggleable__control sk-hidden--visually\" id=\"sk-estimator-id-1\" type=\"checkbox\" checked><label for=\"sk-estimator-id-1\" class=\"sk-toggleable__label sk-toggleable__label-arrow\">OneHotEncoder</label><div class=\"sk-toggleable__content\"><pre>OneHotEncoder()</pre></div></div></div></div></div>"
            ]
          },
          "metadata": {},
          "execution_count": 8
        }
      ],
      "source": [
        "enc.fit(y[:,np.newaxis])"
      ]
    },
    {
      "cell_type": "code",
      "execution_count": 9,
      "metadata": {
        "colab": {
          "base_uri": "https://localhost:8080/"
        },
        "id": "wt2VoOJR5dXH",
        "outputId": "566c6585-4378-49a8-c41c-5532f0efce49"
      },
      "outputs": [
        {
          "output_type": "stream",
          "name": "stderr",
          "text": [
            "<ipython-input-9-fd377ab0d802>:1: FutureWarning: Support for multi-dimensional indexing (e.g. `obj[:, None]`) is deprecated and will be removed in a future version.  Convert to a numpy array before indexing instead.\n",
            "  Y = enc.transform(y[:,np.newaxis]).toarray()\n"
          ]
        }
      ],
      "source": [
        "Y = enc.transform(y[:,np.newaxis]).toarray()"
      ]
    },
    {
      "cell_type": "code",
      "source": [
        "Y.shape"
      ],
      "metadata": {
        "colab": {
          "base_uri": "https://localhost:8080/"
        },
        "id": "0vpkVlUaJWnJ",
        "outputId": "6f3edf29-18c0-42b0-dcd5-25e0bea58dc1"
      },
      "execution_count": 10,
      "outputs": [
        {
          "output_type": "execute_result",
          "data": {
            "text/plain": [
              "(70000, 10)"
            ]
          },
          "metadata": {},
          "execution_count": 10
        }
      ]
    },
    {
      "cell_type": "code",
      "execution_count": 11,
      "metadata": {
        "id": "NwvTe6Kn5dXH"
      },
      "outputs": [],
      "source": [
        "X_train, X_test, y_train, y_test = X[:60000], X[60000:], Y[:60000], Y[60000:]"
      ]
    },
    {
      "cell_type": "code",
      "execution_count": 12,
      "metadata": {
        "id": "gGlZ3xbr5dXI"
      },
      "outputs": [],
      "source": [
        "X_train = X_train / 255\n",
        "X_test = X_test / 255"
      ]
    },
    {
      "cell_type": "code",
      "execution_count": 13,
      "metadata": {
        "id": "p5FFLR7o5dXI"
      },
      "outputs": [],
      "source": [
        "def sigmoid(x):\n",
        "    return 1 / (1 + np.exp(-x))"
      ]
    },
    {
      "cell_type": "code",
      "execution_count": 14,
      "metadata": {
        "id": "8oPx6qBW5dXJ"
      },
      "outputs": [],
      "source": [
        "def softmax(X, W):\n",
        "    K = np.size(W, 1)\n",
        "    A = np.exp(X @ W)\n",
        "    B = np.diag(1 / (np.reshape(A @ np.ones((K,1)), -1)))\n",
        "    Y = B @ A\n",
        "    return Y"
      ]
    },
    {
      "cell_type": "code",
      "execution_count": 15,
      "metadata": {
        "id": "biLi5Y3T5dXK"
      },
      "outputs": [],
      "source": [
        "# add L2 regularization\n",
        "def compute_cost(X, T, W, Lambda=0):\n",
        "    epsilon = 1e-5\n",
        "    N = len(T)\n",
        "    K = np.size(T, 1)\n",
        "    cost = - (1/N) * np.ones((1,N)) @ (np.multiply(np.log(softmax(X, W) + epsilon), T)) @ np.ones((K,1)) + 1 / 2 * Lambda * np.sum(W ** 2)\n",
        "    return cost"
      ]
    },
    {
      "cell_type": "code",
      "execution_count": 16,
      "metadata": {
        "id": "Gtg3lpoV5dXK"
      },
      "outputs": [],
      "source": [
        "def predict(X, W):\n",
        "    return np.argmax((X @ W), axis=1)"
      ]
    },
    {
      "cell_type": "code",
      "execution_count": 17,
      "metadata": {
        "id": "DCFRXE_n5dXL"
      },
      "outputs": [],
      "source": [
        "def batch_gd(X, T, W, learning_rate, iterations, batch_size, Lambda=0):\n",
        "    N = len(T)\n",
        "    cost_history = np.zeros((iterations,1))\n",
        "    shuffled_indices = np.random.permutation(N)\n",
        "    X_shuffled = X[shuffled_indices]\n",
        "    T_shuffled = T[shuffled_indices]\n",
        "\n",
        "    for i in range(iterations):\n",
        "        j = i % N\n",
        "        X_batch = X_shuffled[j:j+batch_size]\n",
        "        T_batch = T_shuffled[j:j+batch_size]\n",
        "        # batch가 epoch 경계를 넘어가는 경우, 앞 부분으로 채워줌\n",
        "        if X_batch.shape[0] < batch_size:\n",
        "            X_batch = np.vstack((X_batch, X_shuffled[:(batch_size - X_batch.shape[0])]))\n",
        "            T_batch = np.vstack((T_batch, T_shuffled[:(batch_size - T_batch.shape[0])]))\n",
        "        W = W - (learning_rate/batch_size) * ((X_batch.T @ (softmax(X_batch, W) - T_batch)) + Lambda * W) # https://sanghyu.tistory.com/88\n",
        "        cost_history[i] = compute_cost(X_batch, T_batch, W, Lambda)\n",
        "        if i % 10000 == 0:\n",
        "            print(f'{i}번째 loss값: {cost_history[i][0]}')\n",
        "\n",
        "    return (cost_history, W)"
      ]
    },
    {
      "cell_type": "code",
      "source": [
        "X = np.hstack((np.ones((np.size(X_train, 0),1)),X_train))\n",
        "T = y_train\n",
        "\n",
        "K = np.size(T, 1)\n",
        "M = np.size(X, 1)\n",
        "W = np.zeros((M,K))\n",
        "\n",
        "iterations = 50000\n",
        "learning_rate = 0.01\n",
        "\n",
        "initial_cost = compute_cost(X, T, W)\n",
        "\n",
        "print(\"Initial Cost is: {} \\n\".format(initial_cost[0][0]))\n",
        "\n",
        "(cost_history, W_optimal) = batch_gd(X, T, W, learning_rate, iterations, 64)"
      ],
      "metadata": {
        "colab": {
          "base_uri": "https://localhost:8080/"
        },
        "id": "2nR_9AZo99_O",
        "outputId": "06017c08-da25-4dfe-e58a-7f67398f4d37"
      },
      "execution_count": 18,
      "outputs": [
        {
          "output_type": "stream",
          "name": "stdout",
          "text": [
            "Initial Cost is: 2.302485097993735 \n",
            "\n",
            "0번째 loss값: 2.283012320757191\n",
            "10000번째 loss값: 0.4128517141368797\n",
            "20000번째 loss값: 0.1999220870201182\n",
            "30000번째 loss값: 0.27512365558209184\n",
            "40000번째 loss값: 0.30707270124832176\n"
          ]
        }
      ]
    },
    {
      "cell_type": "code",
      "source": [
        "## Accuracy\n",
        "X_ = np.hstack((np.ones((np.size(X_test, 0),1)),X_test))\n",
        "T_ = y_test\n",
        "y_pred = predict(X_, W_optimal)\n",
        "score = float(sum(y_pred == np.argmax(T_, axis=1)))/ float(len(y_test))\n",
        "\n",
        "print(score)"
      ],
      "metadata": {
        "colab": {
          "base_uri": "https://localhost:8080/"
        },
        "id": "2bdIMUIR-0ig",
        "outputId": "4865f7eb-871f-4d80-df73-642a2cab39d9"
      },
      "execution_count": 19,
      "outputs": [
        {
          "output_type": "stream",
          "name": "stdout",
          "text": [
            "0.9137\n"
          ]
        }
      ]
    },
    {
      "cell_type": "code",
      "execution_count": 20,
      "metadata": {
        "id": "f82Ycbgo5dXL",
        "colab": {
          "base_uri": "https://localhost:8080/"
        },
        "outputId": "c2d1392a-9bfc-48c5-cd3d-05e4a2710c93"
      },
      "outputs": [
        {
          "output_type": "stream",
          "name": "stdout",
          "text": [
            "Initial Cost is: 2.302485097993735 \n",
            "\n",
            "-------------------\n",
            "====================\n",
            "Lambda : -0.1\n",
            "0번째 loss값: 2.2803661693620896\n",
            "10000번째 loss값: -2.9938890195832086\n",
            "20000번째 loss값: -4.991425786841329\n",
            "30000번째 loss값: -7.232103956119877\n",
            "40000번째 loss값: -9.69182141495924\n",
            "====================\n",
            "Lambda : -0.01\n",
            "0번째 loss값: 2.276882454335086\n",
            "10000번째 loss값: -0.08134643462088537\n",
            "20000번째 loss값: -0.1765679714381494\n",
            "30000번째 loss값: -0.10569543250713664\n",
            "40000번째 loss값: -0.4097461240732392\n",
            "====================\n",
            "Lambda : -0.001\n",
            "0번째 loss값: 2.2760216866705534\n",
            "10000번째 loss값: 0.31353832291315137\n",
            "20000번째 loss값: 0.2264745281908066\n",
            "30000번째 loss값: 0.18741817194941449\n",
            "40000번째 loss값: 0.1539304746538868\n",
            "====================\n",
            "Lambda : -0.0001\n",
            "0번째 loss값: 2.281777347853742\n",
            "10000번째 loss값: 0.40883211014700677\n",
            "20000번째 loss값: 0.20555945197178344\n",
            "30000번째 loss값: 0.27256062742331844\n",
            "40000번째 loss값: 0.18520304642742597\n",
            "====================\n",
            "Lambda : -1e-05\n",
            "0번째 loss값: 2.2784463190624433\n",
            "10000번째 loss값: 0.3925963884158855\n",
            "20000번째 loss값: 0.3321921187796156\n",
            "30000번째 loss값: 0.22003213540171346\n",
            "40000번째 loss값: 0.3299596359939478\n",
            "====================\n",
            "Lambda : 0\n",
            "0번째 loss값: 2.27755798971827\n",
            "10000번째 loss값: 0.305252045185864\n",
            "20000번째 loss값: 0.5022986902750562\n",
            "30000번째 loss값: 0.16110132071652764\n",
            "40000번째 loss값: 0.37394943144313053\n",
            "====================\n",
            "Lambda : 1e-05\n",
            "0번째 loss값: 2.2830382092276413\n",
            "10000번째 loss값: 0.3131822777534418\n",
            "20000번째 loss값: 0.4777243359495625\n",
            "30000번째 loss값: 0.2991858334557835\n",
            "40000번째 loss값: 0.2379633399509869\n",
            "====================\n",
            "Lambda : 0.0001\n",
            "0번째 loss값: 2.280777126625197\n",
            "10000번째 loss값: 0.5665518748111004\n",
            "20000번째 loss값: 0.25730553291720387\n",
            "30000번째 loss값: 0.17723478510081497\n",
            "40000번째 loss값: 0.22829098144422633\n",
            "====================\n",
            "Lambda : 0.001\n",
            "0번째 loss값: 2.2794461133290085\n",
            "10000번째 loss값: 0.4012420930473514\n",
            "20000번째 loss값: 0.2350159272167784\n",
            "30000번째 loss값: 0.2658100233834126\n",
            "40000번째 loss값: 0.31060676567536494\n",
            "====================\n",
            "Lambda : 0.01\n",
            "0번째 loss값: 2.274742055011267\n",
            "10000번째 loss값: 0.507681176030932\n",
            "20000번째 loss값: 0.7102592725254153\n",
            "30000번째 loss값: 0.702241876222808\n",
            "40000번째 loss값: 0.8098571214168238\n",
            "====================\n",
            "Lambda : 0.03\n",
            "0번째 loss값: 2.2831774443020336\n",
            "10000번째 loss값: 1.0856777350969689\n",
            "20000번째 loss값: 1.3925243813407948\n",
            "30000번째 loss값: 1.5380871831298848\n",
            "40000번째 loss값: 1.797868581104885\n",
            "====================\n",
            "Lambda : 0.05\n",
            "0번째 loss값: 2.284219203732582\n",
            "10000번째 loss값: 1.726905057444812\n",
            "20000번째 loss값: 1.9973301169160043\n",
            "30000번째 loss값: 2.198319661285303\n",
            "40000번째 loss값: 2.513509278431231\n",
            "====================\n",
            "Lambda : 0.1\n",
            "0번째 loss값: 2.283420338678471\n",
            "10000번째 loss값: 2.860118017076434\n",
            "20000번째 loss값: 3.352167370656078\n",
            "30000번째 loss값: 3.790137726037249\n",
            "40000번째 loss값: 3.98472205828616\n",
            "====================\n",
            "Lambda : 0.5\n",
            "0번째 loss값: 2.2814272900633745\n",
            "10000번째 loss값: 8.62451623206394\n",
            "20000번째 loss값: 9.280979248268217\n",
            "30000번째 loss값: 9.29763742699809\n",
            "40000번째 loss값: 9.290280359037672\n"
          ]
        }
      ],
      "source": [
        "X = np.hstack((np.ones((np.size(X_train, 0),1)),X_train))\n",
        "T = y_train\n",
        "\n",
        "K = np.size(T, 1)\n",
        "M = np.size(X, 1)\n",
        "W = np.zeros((M,K))\n",
        "\n",
        "iterations = 50000\n",
        "learning_rate = 0.01\n",
        "\n",
        "initial_cost = compute_cost(X, T, W, 0)\n",
        "\n",
        "print(\"Initial Cost is: {} \\n\".format(initial_cost[0][0]))\n",
        "print('-------------------')\n",
        "\n",
        "scores = []\n",
        "lambda_list = [-0.1, -0.01, -0.001, -0.0001, -0.00001, 0, 0.00001, 0.0001, 0.001, 0.01, 0.03, 0.05, 0.1, 0.5]\n",
        "\n",
        "for lamb in lambda_list:\n",
        "  print('====================')\n",
        "  print(f'Lambda : {lamb}')\n",
        "  (cost_history, W_optimal) = batch_gd(X, T, W, learning_rate, iterations, 64, lamb)\n",
        "  y_pred = predict(X, W_optimal)\n",
        "  score = float(sum(y_pred == np.argmax(T, axis=1)))/ float(len(y_pred))\n",
        "  scores.append(score)"
      ]
    },
    {
      "cell_type": "code",
      "source": [
        "for item in zip(lambda_list, scores):\n",
        "  print(f\"lambda: {item[0]}, score: {item[1]}\")"
      ],
      "metadata": {
        "colab": {
          "base_uri": "https://localhost:8080/"
        },
        "id": "Xty1w8k48YuS",
        "outputId": "39e3a4a2-a829-4dd3-c047-6d10b89e29db"
      },
      "execution_count": 21,
      "outputs": [
        {
          "output_type": "stream",
          "name": "stdout",
          "text": [
            "lambda: -0.1, score: 0.9147333333333333\n",
            "lambda: -0.01, score: 0.9151833333333333\n",
            "lambda: -0.001, score: 0.9155\n",
            "lambda: -0.0001, score: 0.91215\n",
            "lambda: -1e-05, score: 0.9177333333333333\n",
            "lambda: 0, score: 0.9063\n",
            "lambda: 1e-05, score: 0.9136833333333333\n",
            "lambda: 0.0001, score: 0.9137666666666666\n",
            "lambda: 0.001, score: 0.9107833333333333\n",
            "lambda: 0.01, score: 0.9120166666666667\n",
            "lambda: 0.03, score: 0.90305\n",
            "lambda: 0.05, score: 0.9114666666666666\n",
            "lambda: 0.1, score: 0.9074833333333333\n",
            "lambda: 0.5, score: 0.8900333333333333\n"
          ]
        }
      ]
    },
    {
      "cell_type": "code",
      "source": [
        "best = max(scores)\n",
        "best_lamb = lambda_list[scores.index(best)]\n",
        "print(f'best Lambda: {best_lamb}, best scores: {best}')"
      ],
      "metadata": {
        "colab": {
          "base_uri": "https://localhost:8080/"
        },
        "id": "btzvBhvkEUSh",
        "outputId": "f0b97f4d-9b09-466a-9c98-899abfb288c3"
      },
      "execution_count": 22,
      "outputs": [
        {
          "output_type": "stream",
          "name": "stdout",
          "text": [
            "best Lambda: -1e-05, best scores: 0.9177333333333333\n"
          ]
        }
      ]
    },
    {
      "cell_type": "code",
      "execution_count": 23,
      "metadata": {
        "id": "b9_pN-P-5dXM",
        "colab": {
          "base_uri": "https://localhost:8080/"
        },
        "outputId": "17f1a5fd-f978-46df-8cb5-d952e1bae053"
      },
      "outputs": [
        {
          "output_type": "stream",
          "name": "stdout",
          "text": [
            "Initial Cost is: 2.302485097993735 \n",
            "\n",
            "0번째 loss값: 2.2746796355468737\n",
            "10000번째 loss값: 0.19388306050316867\n",
            "20000번째 loss값: 0.21524225658127977\n",
            "30000번째 loss값: 0.21439690374664164\n",
            "40000번째 loss값: 0.20578894200131065\n"
          ]
        }
      ],
      "source": [
        "X = np.hstack((np.ones((np.size(X_train, 0),1)),X_train))\n",
        "T = y_train\n",
        "\n",
        "K = np.size(T, 1)\n",
        "M = np.size(X, 1)\n",
        "W = np.zeros((M,K))\n",
        "\n",
        "iterations = 50000\n",
        "learning_rate = 0.01\n",
        "\n",
        "initial_cost = compute_cost(X, T, W, best_lamb)\n",
        "\n",
        "print(\"Initial Cost is: {} \\n\".format(initial_cost[0][0]))\n",
        "\n",
        "(cost_history, W_optimal) = batch_gd(X, T, W, learning_rate, iterations, 64, best_lamb)"
      ]
    },
    {
      "cell_type": "code",
      "source": [
        "## Accuracy\n",
        "X_ = np.hstack((np.ones((np.size(X_test, 0),1)),X_test))\n",
        "T_ = y_test\n",
        "y_pred = predict(X_, W_optimal)\n",
        "score = float(sum(y_pred == np.argmax(T_, axis=1)))/ float(len(y_test))\n",
        "\n",
        "print(score)"
      ],
      "metadata": {
        "colab": {
          "base_uri": "https://localhost:8080/"
        },
        "id": "-W0xCaaFE9QY",
        "outputId": "586be980-865a-4059-9a52-298236503142"
      },
      "execution_count": 24,
      "outputs": [
        {
          "output_type": "stream",
          "name": "stdout",
          "text": [
            "0.9162\n"
          ]
        }
      ]
    },
    {
      "cell_type": "markdown",
      "source": [
        "---"
      ],
      "metadata": {
        "id": "zikU7ARzFDLJ"
      }
    },
    {
      "cell_type": "markdown",
      "source": [
        "2. 다중클래스 분류모델의 결정경계 구하기\n",
        "아래 웹페이지에서 두 가지의 모델이 학습됩니다. 그 중에서 'multinomial' logistic regression의 경우에, 결정경계를 나타내는 방정식들을 구하고 화면에 나타내보세요.\n",
        "https://scikit-learn.org/stable/auto_examples/linear_model/plot_logistic_multinomial.html\n",
        "아래 이미지처럼 결정경계는 세 개의 직선방정식으로 나타낼 수 있습니다. 즉, 클래스1과 클래스2의 경계를 나타내는 직선방정식, 클래스1과 클래스3의 경계를 나타내는 직선방정식 그리고 클래스2와 클래스3의 경계를 나타내는 직선방정식입니다. 방정식들을 구하고 화면에 그려보세요."
      ],
      "metadata": {
        "id": "iZJzJgV0FrLz"
      }
    },
    {
      "cell_type": "code",
      "source": [
        "import numpy as np\n",
        "import matplotlib.pyplot as plt\n",
        "from sklearn.datasets import make_blobs\n",
        "from sklearn.linear_model import LogisticRegression\n",
        "from sklearn.inspection import DecisionBoundaryDisplay\n",
        "\n",
        "# make 3-class dataset for classification\n",
        "centers = [[-5, 0], [0, 1.5], [5, -1]]\n",
        "X, y = make_blobs(n_samples=1000, centers=centers, random_state=40)\n",
        "transformation = [[0.4, 0.2], [-0.4, 1.2]]\n",
        "X = np.dot(X, transformation)\n",
        "\n",
        "clf = LogisticRegression(\n",
        "        solver=\"sag\", max_iter=100, random_state=42, multi_class=\"multinomial\"\n",
        "    ).fit(X, y)\n",
        "\n",
        "# print the training scores\n",
        "print(\"training score : %.3f (%s)\" % (clf.score(X, y), \"multinomial\"))\n",
        "\n",
        "_, ax = plt.subplots()\n",
        "DecisionBoundaryDisplay.from_estimator(clf, X, response_method=\"predict\", cmap=plt.cm.Paired, ax=ax)\n",
        "plt.title(\"Decision surface of LogisticRegression (%s)\" % \"multinomial\")\n",
        "plt.axis(\"tight\")\n",
        "\n",
        "# Plot also the training points\n",
        "colors = \"bry\"\n",
        "for i, color in zip(clf.classes_, colors):\n",
        "    idx = np.where(y == i)\n",
        "    plt.scatter(X[idx, 0], X[idx, 1], c=color, cmap=plt.cm.Paired, edgecolor=\"black\", s=20)\n",
        "\n",
        "# Plot the three one-against-all classifiers\n",
        "xmin, xmax = plt.xlim()\n",
        "ymin, ymax = plt.ylim()\n",
        "coef = clf.coef_\n",
        "intercept = clf.intercept_\n",
        "print('======')\n",
        "print(coef)\n",
        "print('=======')\n",
        "print(intercept)\n",
        "print('=======')\n",
        "def plot_hyperplane(c, color):\n",
        "  # https://stackoverflow.com/questions/23794277/extract-decision-boundary-with-scikit-learn-linear-svm를 참고함.\n",
        "  w = - (coef[c, 0] / coef[c, 1])\n",
        "  b = - (intercept[c] / coef[c,1])\n",
        "  def y(x):\n",
        "      return w*x + b\n",
        "\n",
        "  plt.plot([xmin, xmax], [y(xmin), y(xmax)], ls=\"--\", color=color, label=f\"{w:.4f}x + {b:.4f}\")\n",
        "\n",
        "for i, color in zip(clf.classes_, colors):\n",
        "  plot_hyperplane(i, color)\n",
        "\n",
        "plt.legend()\n",
        "plt.show()"
      ],
      "metadata": {
        "colab": {
          "base_uri": "https://localhost:8080/",
          "height": 636
        },
        "id": "BanUl4p9Ft9e",
        "outputId": "9cba1ed4-c109-4f1e-c460-1f113a5278f3"
      },
      "execution_count": 28,
      "outputs": [
        {
          "output_type": "stream",
          "name": "stdout",
          "text": [
            "training score : 0.995 (multinomial)\n",
            "======\n",
            "[[-4.51740321 -1.56048296]\n",
            " [-0.08918381  0.72635442]\n",
            " [ 4.60658703  0.83412854]]\n",
            "=======\n",
            "[-1.69874938  2.89695153 -1.19820215]\n",
            "=======\n"
          ]
        },
        {
          "output_type": "stream",
          "name": "stderr",
          "text": [
            "<ipython-input-28-e9c28bf0d626>:29: UserWarning: No data for colormapping provided via 'c'. Parameters 'cmap' will be ignored\n",
            "  plt.scatter(X[idx, 0], X[idx, 1], c=color, cmap=plt.cm.Paired, edgecolor=\"black\", s=20)\n"
          ]
        },
        {
          "output_type": "display_data",
          "data": {
            "text/plain": [
              "<Figure size 640x480 with 1 Axes>"
            ],
            "image/png": "[encoded data removed]"
          },
          "metadata": {}
        }
      ]
    },
    {
      "cell_type": "code",
      "source": [],
      "metadata": {
        "id": "ShOYj0BKKlix"
      },
      "execution_count": 25,
      "outputs": []
    }
  ],
  "metadata": {
    "kernelspec": {
      "display_name": "Python 3",
      "language": "python",
      "name": "python3"
    },
    "language_info": {
      "codemirror_mode": {
        "name": "ipython",
        "version": 3
      },
      "file_extension": ".py",
      "mimetype": "text/x-python",
      "name": "python",
      "nbconvert_exporter": "python",
      "pygments_lexer": "ipython3",
      "version": "3.7.8"
    },
    "colab": {
      "provenance": []
    },
    "gpuClass": "standard"
  },
  "nbformat": 4,
  "nbformat_minor": 0
}