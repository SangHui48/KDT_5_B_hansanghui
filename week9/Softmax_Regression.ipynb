{
  "cells": [
    {
      "cell_type": "code",
      "execution_count": 1,
      "metadata": {
        "id": "XwqQKYV05dW_"
      },
      "outputs": [],
      "source": [
        "import numpy as np\n",
        "import matplotlib.pyplot as plt\n",
        "from sklearn.datasets import make_classification\n",
        "import seaborn as sns"
      ]
    },
    {
      "cell_type": "code",
      "execution_count": 2,
      "metadata": {
        "colab": {
          "base_uri": "https://localhost:8080/"
        },
        "id": "vbzq6Q-F5dXE",
        "outputId": "5570241c-127a-42dc-ba0d-16820749ce0c"
      },
      "outputs": [
        {
          "output_type": "stream",
          "name": "stderr",
          "text": [
            "/usr/local/lib/python3.10/dist-packages/sklearn/datasets/_openml.py:968: FutureWarning: The default value of `parser` will change from `'liac-arff'` to `'auto'` in 1.4. You can set `parser='auto'` to silence this warning. Therefore, an `ImportError` will be raised from 1.4 if the dataset is dense and pandas is not installed. Note that the pandas parser may return different data types. See the Notes Section in fetch_openml's API doc for details.\n",
            "  warn(\n"
          ]
        },
        {
          "output_type": "execute_result",
          "data": {
            "text/plain": [
              "dict_keys(['data', 'target', 'frame', 'categories', 'feature_names', 'target_names', 'DESCR', 'details', 'url'])"
            ]
          },
          "metadata": {},
          "execution_count": 2
        }
      ],
      "source": [
        "from sklearn.datasets import fetch_openml\n",
        "mnist = fetch_openml('mnist_784', version=1, cache=True)\n",
        "mnist.keys()"
      ]
    },
    {
      "cell_type": "code",
      "execution_count": 3,
      "metadata": {
        "id": "X8PMX8Vb5dXF"
      },
      "outputs": [],
      "source": [
        "X, y = mnist[\"data\"], mnist[\"target\"]"
      ]
    },
    {
      "cell_type": "code",
      "source": [
        "X.shape, y.shape"
      ],
      "metadata": {
        "colab": {
          "base_uri": "https://localhost:8080/"
        },
        "id": "nVIxq5G3Id0-",
        "outputId": "08ddef96-9af0-4012-dd4f-1a6af565fb1a"
      },
      "execution_count": 4,
      "outputs": [
        {
          "output_type": "execute_result",
          "data": {
            "text/plain": [
              "((70000, 784), (70000,))"
            ]
          },
          "metadata": {},
          "execution_count": 4
        }
      ]
    },
    {
      "cell_type": "code",
      "source": [
        "print(X.iloc[0, :])\n",
        "print(y[:10])"
      ],
      "metadata": {
        "colab": {
          "base_uri": "https://localhost:8080/"
        },
        "id": "boXZtrF_IhJg",
        "outputId": "09b3d3fb-2d00-4287-df22-7dabead6b27a"
      },
      "execution_count": 5,
      "outputs": [
        {
          "output_type": "stream",
          "name": "stdout",
          "text": [
            "pixel1      0.0\n",
            "pixel2      0.0\n",
            "pixel3      0.0\n",
            "pixel4      0.0\n",
            "pixel5      0.0\n",
            "           ... \n",
            "pixel780    0.0\n",
            "pixel781    0.0\n",
            "pixel782    0.0\n",
            "pixel783    0.0\n",
            "pixel784    0.0\n",
            "Name: 0, Length: 784, dtype: float64\n",
            "0    5\n",
            "1    0\n",
            "2    4\n",
            "3    1\n",
            "4    9\n",
            "5    2\n",
            "6    1\n",
            "7    3\n",
            "8    1\n",
            "9    4\n",
            "Name: class, dtype: category\n",
            "Categories (10, object): ['0', '1', '2', '3', ..., '6', '7', '8', '9']\n"
          ]
        }
      ]
    },
    {
      "cell_type": "code",
      "execution_count": 6,
      "metadata": {
        "id": "Vp0pF0En5dXF"
      },
      "outputs": [],
      "source": [
        "y = y.astype(np.uint8)"
      ]
    },
    {
      "cell_type": "code",
      "execution_count": 7,
      "metadata": {
        "id": "TgJT1FAp5dXG"
      },
      "outputs": [],
      "source": [
        "from sklearn.preprocessing import OneHotEncoder\n",
        "enc = OneHotEncoder()"
      ]
    },
    {
      "cell_type": "code",
      "execution_count": 8,
      "metadata": {
        "colab": {
          "base_uri": "https://localhost:8080/",
          "height": 111
        },
        "id": "_H4rb4_i5dXG",
        "outputId": "bd203bbc-c2be-4c8a-c5f4-b1736df78cbd"
      },
      "outputs": [
        {
          "output_type": "stream",
          "name": "stderr",
          "text": [
            "<ipython-input-8-78fc683d5810>:1: FutureWarning: Support for multi-dimensional indexing (e.g. `obj[:, None]`) is deprecated and will be removed in a future version.  Convert to a numpy array before indexing instead.\n",
            "  enc.fit(y[:,np.newaxis])\n"
          ]
        },
        {
          "output_type": "execute_result",
          "data": {
            "text/plain": [
              "OneHotEncoder()"
            ],
            "text/html": [
              "<style>#sk-container-id-1 {color: black;background-color: white;}#sk-container-id-1 pre{padding: 0;}#sk-container-id-1 div.sk-toggleable {background-color: white;}#sk-container-id-1 label.sk-toggleable__label {cursor: pointer;display: block;width: 100%;margin-bottom: 0;padding: 0.3em;box-sizing: border-box;text-align: center;}#sk-container-id-1 label.sk-toggleable__label-arrow:before {content: \"▸\";float: left;margin-right: 0.25em;color: #696969;}#sk-container-id-1 label.sk-toggleable__label-arrow:hover:before {color: black;}#sk-container-id-1 div.sk-estimator:hover label.sk-toggleable__label-arrow:before {color: black;}#sk-container-id-1 div.sk-toggleable__content {max-height: 0;max-width: 0;overflow: hidden;text-align: left;background-color: #f0f8ff;}#sk-container-id-1 div.sk-toggleable__content pre {margin: 0.2em;color: black;border-radius: 0.25em;background-color: #f0f8ff;}#sk-container-id-1 input.sk-toggleable__control:checked~div.sk-toggleable__content {max-height: 200px;max-width: 100%;overflow: auto;}#sk-container-id-1 input.sk-toggleable__control:checked~label.sk-toggleable__label-arrow:before {content: \"▾\";}#sk-container-id-1 div.sk-estimator input.sk-toggleable__control:checked~label.sk-toggleable__label {background-color: #d4ebff;}#sk-container-id-1 div.sk-label input.sk-toggleable__control:checked~label.sk-toggleable__label {background-color: #d4ebff;}#sk-container-id-1 input.sk-hidden--visually {border: 0;clip: rect(1px 1px 1px 1px);clip: rect(1px, 1px, 1px, 1px);height: 1px;margin: -1px;overflow: hidden;padding: 0;position: absolute;width: 1px;}#sk-container-id-1 div.sk-estimator {font-family: monospace;background-color: #f0f8ff;border: 1px dotted black;border-radius: 0.25em;box-sizing: border-box;margin-bottom: 0.5em;}#sk-container-id-1 div.sk-estimator:hover {background-color: #d4ebff;}#sk-container-id-1 div.sk-parallel-item::after {content: \"\";width: 100%;border-bottom: 1px solid gray;flex-grow: 1;}#sk-container-id-1 div.sk-label:hover label.sk-toggleable__label {background-color: #d4ebff;}#sk-container-id-1 div.sk-serial::before {content: \"\";position: absolute;border-left: 1px solid gray;box-sizing: border-box;top: 0;bottom: 0;left: 50%;z-index: 0;}#sk-container-id-1 div.sk-serial {display: flex;flex-direction: column;align-items: center;background-color: white;padding-right: 0.2em;padding-left: 0.2em;position: relative;}#sk-container-id-1 div.sk-item {position: relative;z-index: 1;}#sk-container-id-1 div.sk-parallel {display: flex;align-items: stretch;justify-content: center;background-color: white;position: relative;}#sk-container-id-1 div.sk-item::before, #sk-container-id-1 div.sk-parallel-item::before {content: \"\";position: absolute;border-left: 1px solid gray;box-sizing: border-box;top: 0;bottom: 0;left: 50%;z-index: -1;}#sk-container-id-1 div.sk-parallel-item {display: flex;flex-direction: column;z-index: 1;position: relative;background-color: white;}#sk-container-id-1 div.sk-parallel-item:first-child::after {align-self: flex-end;width: 50%;}#sk-container-id-1 div.sk-parallel-item:last-child::after {align-self: flex-start;width: 50%;}#sk-container-id-1 div.sk-parallel-item:only-child::after {width: 0;}#sk-container-id-1 div.sk-dashed-wrapped {border: 1px dashed gray;margin: 0 0.4em 0.5em 0.4em;box-sizing: border-box;padding-bottom: 0.4em;background-color: white;}#sk-container-id-1 div.sk-label label {font-family: monospace;font-weight: bold;display: inline-block;line-height: 1.2em;}#sk-container-id-1 div.sk-label-container {text-align: center;}#sk-container-id-1 div.sk-container {/* jupyter's `normalize.less` sets `[hidden] { display: none; }` but bootstrap.min.css set `[hidden] { display: none !important; }` so we also need the `!important` here to be able to override the default hidden behavior on the sphinx rendered scikit-learn.org. See: https://github.com/scikit-learn/scikit-learn/issues/21755 */display: inline-block !important;position: relative;}#sk-container-id-1 div.sk-text-repr-fallback {display: none;}</style><div id=\"sk-container-id-1\" class=\"sk-top-container\"><div class=\"sk-text-repr-fallback\"><pre>OneHotEncoder()</pre><b>In a Jupyter environment, please rerun this cell to show the HTML representation or trust the notebook. <br />On GitHub, the HTML representation is unable to render, please try loading this page with nbviewer.org.</b></div><div class=\"sk-container\" hidden><div class=\"sk-item\"><div class=\"sk-estimator sk-toggleable\"><input class=\"sk-toggleable__control sk-hidden--visually\" id=\"sk-estimator-id-1\" type=\"checkbox\" checked><label for=\"sk-estimator-id-1\" class=\"sk-toggleable__label sk-toggleable__label-arrow\">OneHotEncoder</label><div class=\"sk-toggleable__content\"><pre>OneHotEncoder()</pre></div></div></div></div></div>"
            ]
          },
          "metadata": {},
          "execution_count": 8
        }
      ],
      "source": [
        "enc.fit(y[:,np.newaxis])"
      ]
    },
    {
      "cell_type": "code",
      "execution_count": 9,
      "metadata": {
        "colab": {
          "base_uri": "https://localhost:8080/"
        },
        "id": "wt2VoOJR5dXH",
        "outputId": "bebde7bd-579f-46dc-d0a2-3931ae8cc8fc"
      },
      "outputs": [
        {
          "output_type": "stream",
          "name": "stderr",
          "text": [
            "<ipython-input-9-fd377ab0d802>:1: FutureWarning: Support for multi-dimensional indexing (e.g. `obj[:, None]`) is deprecated and will be removed in a future version.  Convert to a numpy array before indexing instead.\n",
            "  Y = enc.transform(y[:,np.newaxis]).toarray()\n"
          ]
        }
      ],
      "source": [
        "Y = enc.transform(y[:,np.newaxis]).toarray()"
      ]
    },
    {
      "cell_type": "code",
      "source": [
        "Y.shape"
      ],
      "metadata": {
        "colab": {
          "base_uri": "https://localhost:8080/"
        },
        "id": "0vpkVlUaJWnJ",
        "outputId": "89616f1b-4aa7-443b-e5f9-8d033de261b1"
      },
      "execution_count": 10,
      "outputs": [
        {
          "output_type": "execute_result",
          "data": {
            "text/plain": [
              "(70000, 10)"
            ]
          },
          "metadata": {},
          "execution_count": 10
        }
      ]
    },
    {
      "cell_type": "code",
      "execution_count": 11,
      "metadata": {
        "id": "NwvTe6Kn5dXH"
      },
      "outputs": [],
      "source": [
        "X_train, X_test, y_train, y_test = X[:60000], X[60000:], Y[:60000], Y[60000:]"
      ]
    },
    {
      "cell_type": "code",
      "execution_count": 12,
      "metadata": {
        "id": "gGlZ3xbr5dXI"
      },
      "outputs": [],
      "source": [
        "X_train = X_train / 255\n",
        "X_test = X_test / 255"
      ]
    },
    {
      "cell_type": "code",
      "execution_count": 13,
      "metadata": {
        "id": "p5FFLR7o5dXI"
      },
      "outputs": [],
      "source": [
        "def sigmoid(x):\n",
        "    return 1 / (1 + np.exp(-x))"
      ]
    },
    {
      "cell_type": "code",
      "execution_count": 14,
      "metadata": {
        "id": "8oPx6qBW5dXJ"
      },
      "outputs": [],
      "source": [
        "def softmax(X, W):\n",
        "    K = np.size(W, 1)\n",
        "    A = np.exp(X @ W)\n",
        "    B = np.diag(1 / (np.reshape(A @ np.ones((K,1)), -1)))\n",
        "    Y = B @ A\n",
        "    return Y"
      ]
    },
    {
      "cell_type": "code",
      "execution_count": 15,
      "metadata": {
        "id": "biLi5Y3T5dXK"
      },
      "outputs": [],
      "source": [
        "# add L2 regularization\n",
        "def compute_cost(X, T, W, Lambda=0):\n",
        "    epsilon = 1e-5\n",
        "    N = len(T)\n",
        "    K = np.size(T, 1)\n",
        "    cost = - (1/N) * np.ones((1,N)) @ (np.multiply(np.log(softmax(X, W) + epsilon), T)) @ np.ones((K,1)) + 1 / 2 * Lambda * np.sum(W ** 2)\n",
        "    return cost"
      ]
    },
    {
      "cell_type": "code",
      "execution_count": 16,
      "metadata": {
        "id": "Gtg3lpoV5dXK"
      },
      "outputs": [],
      "source": [
        "def predict(X, W):\n",
        "    return np.argmax((X @ W), axis=1)"
      ]
    },
    {
      "cell_type": "code",
      "execution_count": 17,
      "metadata": {
        "id": "DCFRXE_n5dXL"
      },
      "outputs": [],
      "source": [
        "def batch_gd(X, T, W, learning_rate, iterations, batch_size, Lambda=0):\n",
        "    N = len(T)\n",
        "    cost_history = np.zeros((iterations,1))\n",
        "    shuffled_indices = np.random.permutation(N)\n",
        "    X_shuffled = X[shuffled_indices]\n",
        "    T_shuffled = T[shuffled_indices]\n",
        "\n",
        "    for i in range(iterations):\n",
        "        j = i % N\n",
        "        X_batch = X_shuffled[j:j+batch_size]\n",
        "        T_batch = T_shuffled[j:j+batch_size]\n",
        "        # batch가 epoch 경계를 넘어가는 경우, 앞 부분으로 채워줌\n",
        "        if X_batch.shape[0] < batch_size:\n",
        "            X_batch = np.vstack((X_batch, X_shuffled[:(batch_size - X_batch.shape[0])]))\n",
        "            T_batch = np.vstack((T_batch, T_shuffled[:(batch_size - T_batch.shape[0])]))\n",
        "        W = W - (learning_rate/batch_size) * ((X_batch.T @ (softmax(X_batch, W) - T_batch)) + Lambda * W) # https://sanghyu.tistory.com/88\n",
        "        cost_history[i] = compute_cost(X_batch, T_batch, W, Lambda)\n",
        "        if i % 10000 == 0:\n",
        "            print(f'{i}번째 loss값: {cost_history[i][0]}')\n",
        "\n",
        "    return (cost_history, W)"
      ]
    },
    {
      "cell_type": "code",
      "source": [
        "X = np.hstack((np.ones((np.size(X_train, 0),1)),X_train))\n",
        "T = y_train\n",
        "\n",
        "K = np.size(T, 1)\n",
        "M = np.size(X, 1)\n",
        "W = np.zeros((M,K))\n",
        "\n",
        "iterations = 50000\n",
        "learning_rate = 0.01\n",
        "\n",
        "initial_cost = compute_cost(X, T, W)\n",
        "\n",
        "print(\"Initial Cost is: {} \\n\".format(initial_cost[0][0]))\n",
        "\n",
        "(cost_history, W_optimal) = batch_gd(X, T, W, learning_rate, iterations, 64)"
      ],
      "metadata": {
        "colab": {
          "base_uri": "https://localhost:8080/"
        },
        "id": "2nR_9AZo99_O",
        "outputId": "e1018573-76c8-4c85-fd61-e7558025290a"
      },
      "execution_count": 18,
      "outputs": [
        {
          "output_type": "stream",
          "name": "stdout",
          "text": [
            "Initial Cost is: 2.302485097993735 \n",
            "\n",
            "0번째 loss값: 2.2712498052523706\n",
            "10000번째 loss값: 0.19239540740429462\n",
            "20000번째 loss값: 0.5106365151279849\n",
            "30000번째 loss값: 0.1856552035736016\n",
            "40000번째 loss값: 0.4924162890692729\n"
          ]
        }
      ]
    },
    {
      "cell_type": "code",
      "source": [
        "## Accuracy\n",
        "X_ = np.hstack((np.ones((np.size(X_test, 0),1)),X_test))\n",
        "T_ = y_test\n",
        "y_pred = predict(X_, W_optimal)\n",
        "score = float(sum(y_pred == np.argmax(T_, axis=1)))/ float(len(y_test))\n",
        "\n",
        "print(score)"
      ],
      "metadata": {
        "colab": {
          "base_uri": "https://localhost:8080/"
        },
        "id": "2bdIMUIR-0ig",
        "outputId": "37daaee1-5213-4e31-ba4f-da5d3f7cf3f8"
      },
      "execution_count": 19,
      "outputs": [
        {
          "output_type": "stream",
          "name": "stdout",
          "text": [
            "0.9114\n"
          ]
        }
      ]
    },
    {
      "cell_type": "code",
      "execution_count": 20,
      "metadata": {
        "id": "f82Ycbgo5dXL",
        "colab": {
          "base_uri": "https://localhost:8080/"
        },
        "outputId": "a2c515a4-ed05-4cf9-8f38-9281ebebae10"
      },
      "outputs": [
        {
          "output_type": "stream",
          "name": "stdout",
          "text": [
            "Initial Cost is: 2.302485097993735 \n",
            "\n",
            "-------------------\n",
            "====================\n",
            "Lambda : -0.1\n",
            "0번째 loss값: 2.283250833583219\n",
            "10000번째 loss값: -2.9803442639812063\n",
            "20000번째 loss값: -4.868431915619695\n",
            "30000번째 loss값: -7.097487211329485\n",
            "40000번째 loss값: -9.737048495600243\n",
            "====================\n",
            "Lambda : -0.01\n",
            "0번째 loss값: 2.285086452262048\n",
            "10000번째 loss값: 0.12220412573249889\n",
            "20000번째 loss값: -0.12653493279441025\n",
            "30000번째 loss값: -0.13434442620627096\n",
            "40000번째 loss값: -0.4372982937232155\n",
            "====================\n",
            "Lambda : -0.001\n",
            "0번째 loss값: 2.281961164223739\n",
            "10000번째 loss값: 0.29188577644010777\n",
            "20000번째 loss값: 0.3489960843359619\n",
            "30000번째 loss값: 0.24311060966653833\n",
            "40000번째 loss값: 0.47717819350071333\n",
            "====================\n",
            "Lambda : -0.0001\n",
            "0번째 loss값: 2.2845927236306816\n",
            "10000번째 loss값: 0.21989525829556056\n",
            "20000번째 loss값: 0.2634846990403201\n",
            "30000번째 loss값: 0.23721444507955539\n",
            "40000번째 loss값: 0.24812348682239127\n",
            "====================\n",
            "Lambda : -1e-05\n",
            "0번째 loss값: 2.2781053503517255\n",
            "10000번째 loss값: 0.24541112160287074\n",
            "20000번째 loss값: 0.09311494549875435\n",
            "30000번째 loss값: 0.2986837266752914\n",
            "40000번째 loss값: 0.21350310308144424\n",
            "====================\n",
            "Lambda : 0\n",
            "0번째 loss값: 2.28123711354765\n",
            "10000번째 loss값: 0.4974438683485788\n",
            "20000번째 loss값: 0.24851821441668548\n",
            "30000번째 loss값: 0.12193461846423755\n",
            "40000번째 loss값: 0.3243756346163228\n",
            "====================\n",
            "Lambda : 1e-05\n",
            "0번째 loss값: 2.2830389538957707\n",
            "10000번째 loss값: 0.3912748037964884\n",
            "20000번째 loss값: 0.3522846185849237\n",
            "30000번째 loss값: 0.2056215662738774\n",
            "40000번째 loss값: 0.2784448067102183\n",
            "====================\n",
            "Lambda : 0.0001\n",
            "0번째 loss값: 2.279302280248806\n",
            "10000번째 loss값: 0.3276489219815013\n",
            "20000번째 loss값: 0.5830771802224708\n",
            "30000번째 loss값: 0.23439695028722402\n",
            "40000번째 loss값: 0.2565128791799557\n",
            "====================\n",
            "Lambda : 0.001\n",
            "0번째 loss값: 2.2768835647622474\n",
            "10000번째 loss값: 0.4845933132471691\n",
            "20000번째 loss값: 0.3225054527552276\n",
            "30000번째 loss값: 0.3609798720908551\n",
            "40000번째 loss값: 0.2681865461725541\n",
            "====================\n",
            "Lambda : 0.01\n",
            "0번째 loss값: 2.2820774536065462\n",
            "10000번째 loss값: 0.519793693630604\n",
            "20000번째 loss값: 0.7246093908265587\n",
            "30000번째 loss값: 0.6531093317470342\n",
            "40000번째 loss값: 0.6966947478030621\n",
            "====================\n",
            "Lambda : 0.03\n",
            "0번째 loss값: 2.2752812167028122\n",
            "10000번째 loss값: 1.0563517837542133\n",
            "20000번째 loss값: 1.31070772545552\n",
            "30000번째 loss값: 1.4584943380259041\n",
            "40000번째 loss값: 1.723338593336271\n",
            "====================\n",
            "Lambda : 0.05\n",
            "0번째 loss값: 2.2730085608503976\n",
            "10000번째 loss값: 1.4809597827737058\n",
            "20000번째 loss값: 2.0520903769488426\n",
            "30000번째 loss값: 2.3327459783575604\n",
            "40000번째 loss값: 2.396897908770923\n",
            "====================\n",
            "Lambda : 0.1\n",
            "0번째 loss값: 2.272661074536969\n",
            "10000번째 loss값: 2.772965893995867\n",
            "20000번째 loss값: 3.3972759758128515\n",
            "30000번째 loss값: 3.7569945754815572\n",
            "40000번째 loss값: 4.063353057486909\n",
            "====================\n",
            "Lambda : 0.5\n",
            "0번째 loss값: 2.2763682550751208\n",
            "10000번째 loss값: 8.569964917352056\n",
            "20000번째 loss값: 9.294627291252882\n",
            "30000번째 loss값: 9.392059173556332\n",
            "40000번째 loss값: 9.36027927495531\n"
          ]
        }
      ],
      "source": [
        "X = np.hstack((np.ones((np.size(X_train, 0),1)),X_train))\n",
        "T = y_train\n",
        "\n",
        "K = np.size(T, 1)\n",
        "M = np.size(X, 1)\n",
        "W = np.zeros((M,K))\n",
        "\n",
        "iterations = 50000\n",
        "learning_rate = 0.01\n",
        "\n",
        "initial_cost = compute_cost(X, T, W, 0)\n",
        "\n",
        "print(\"Initial Cost is: {} \\n\".format(initial_cost[0][0]))\n",
        "print('-------------------')\n",
        "\n",
        "scores = []\n",
        "lambda_list = [-0.1, -0.01, -0.001, -0.0001, -0.00001, 0, 0.00001, 0.0001, 0.001, 0.01, 0.03, 0.05, 0.1, 0.5]\n",
        "\n",
        "for lamb in lambda_list:\n",
        "  print('====================')\n",
        "  print(f'Lambda : {lamb}')\n",
        "  (cost_history, W_optimal) = batch_gd(X, T, W, learning_rate, iterations, 64, lamb)\n",
        "  y_pred = predict(X, W_optimal)\n",
        "  score = float(sum(y_pred == np.argmax(T, axis=1)))/ float(len(y_pred))\n",
        "  scores.append(score)"
      ]
    },
    {
      "cell_type": "code",
      "source": [
        "for item in zip(lambda_list, scores):\n",
        "  print(f\"lambda: {item[0]}, score: {item[1]}\")"
      ],
      "metadata": {
        "colab": {
          "base_uri": "https://localhost:8080/"
        },
        "id": "Xty1w8k48YuS",
        "outputId": "9d5b096b-693b-40da-ed5c-bcb124dbd92a"
      },
      "execution_count": 21,
      "outputs": [
        {
          "output_type": "stream",
          "name": "stdout",
          "text": [
            "lambda: -0.1, score: 0.9124\n",
            "lambda: -0.01, score: 0.9132833333333333\n",
            "lambda: -0.001, score: 0.9120166666666667\n",
            "lambda: -0.0001, score: 0.9088\n",
            "lambda: -1e-05, score: 0.915\n",
            "lambda: 0, score: 0.9143833333333333\n",
            "lambda: 1e-05, score: 0.9134\n",
            "lambda: 0.0001, score: 0.9083166666666667\n",
            "lambda: 0.001, score: 0.9128333333333334\n",
            "lambda: 0.01, score: 0.9152333333333333\n",
            "lambda: 0.03, score: 0.9115333333333333\n",
            "lambda: 0.05, score: 0.9096333333333333\n",
            "lambda: 0.1, score: 0.9065666666666666\n",
            "lambda: 0.5, score: 0.8808166666666667\n"
          ]
        }
      ]
    },
    {
      "cell_type": "code",
      "source": [
        "best = max(scores)\n",
        "best_lamb = lambda_list[scores.index(best)]\n",
        "print(f'best Lambda: {best_lamb}, best scores: {best}')"
      ],
      "metadata": {
        "colab": {
          "base_uri": "https://localhost:8080/"
        },
        "id": "btzvBhvkEUSh",
        "outputId": "fda074e2-cdd2-4ed0-faca-4f1428d47496"
      },
      "execution_count": 24,
      "outputs": [
        {
          "output_type": "stream",
          "name": "stdout",
          "text": [
            "best Lambda: 0.01, best scores: 0.9152333333333333\n"
          ]
        }
      ]
    },
    {
      "cell_type": "code",
      "execution_count": 25,
      "metadata": {
        "id": "b9_pN-P-5dXM",
        "colab": {
          "base_uri": "https://localhost:8080/"
        },
        "outputId": "f07e4b9c-3f91-4324-8f62-a1ad07b76163"
      },
      "outputs": [
        {
          "output_type": "stream",
          "name": "stdout",
          "text": [
            "Initial Cost is: 2.302485097993735 \n",
            "\n",
            "0번째 loss값: 2.2797965141402656\n",
            "10000번째 loss값: 0.6196302458818296\n",
            "20000번째 loss값: 0.6170061768972804\n",
            "30000번째 loss값: 0.8146488288581994\n",
            "40000번째 loss값: 0.7494272680933298\n"
          ]
        }
      ],
      "source": [
        "X = np.hstack((np.ones((np.size(X_train, 0),1)),X_train))\n",
        "T = y_train\n",
        "\n",
        "K = np.size(T, 1)\n",
        "M = np.size(X, 1)\n",
        "W = np.zeros((M,K))\n",
        "\n",
        "iterations = 50000\n",
        "learning_rate = 0.01\n",
        "\n",
        "initial_cost = compute_cost(X, T, W, best_lamb)\n",
        "\n",
        "print(\"Initial Cost is: {} \\n\".format(initial_cost[0][0]))\n",
        "\n",
        "(cost_history, W_optimal) = batch_gd(X, T, W, learning_rate, iterations, 64, best_lamb)"
      ]
    },
    {
      "cell_type": "code",
      "source": [
        "## Accuracy\n",
        "X_ = np.hstack((np.ones((np.size(X_test, 0),1)),X_test))\n",
        "T_ = y_test\n",
        "y_pred = predict(X_, W_optimal)\n",
        "score = float(sum(y_pred == np.argmax(T_, axis=1)))/ float(len(y_test))\n",
        "\n",
        "print(score)"
      ],
      "metadata": {
        "colab": {
          "base_uri": "https://localhost:8080/"
        },
        "id": "-W0xCaaFE9QY",
        "outputId": "23cafbc6-4669-4e69-8bf2-04470194198c"
      },
      "execution_count": 26,
      "outputs": [
        {
          "output_type": "stream",
          "name": "stdout",
          "text": [
            "0.9175\n"
          ]
        }
      ]
    },
    {
      "cell_type": "markdown",
      "source": [
        "---"
      ],
      "metadata": {
        "id": "zikU7ARzFDLJ"
      }
    },
    {
      "cell_type": "markdown",
      "source": [
        "2. 다중클래스 분류모델의 결정경계 구하기\n",
        "아래 웹페이지에서 두 가지의 모델이 학습됩니다. 그 중에서 'multinomial' logistic regression의 경우에, 결정경계를 나타내는 방정식들을 구하고 화면에 나타내보세요.\n",
        "https://scikit-learn.org/stable/auto_examples/linear_model/plot_logistic_multinomial.html\n",
        "아래 이미지처럼 결정경계는 세 개의 직선방정식으로 나타낼 수 있습니다. 즉, 클래스1과 클래스2의 경계를 나타내는 직선방정식, 클래스1과 클래스3의 경계를 나타내는 직선방정식 그리고 클래스2와 클래스3의 경계를 나타내는 직선방정식입니다. 방정식들을 구하고 화면에 그려보세요."
      ],
      "metadata": {
        "id": "iZJzJgV0FrLz"
      }
    },
    {
      "cell_type": "code",
      "source": [
        "import numpy as np\n",
        "import matplotlib.pyplot as plt\n",
        "from sklearn.datasets import make_blobs\n",
        "from sklearn.linear_model import LogisticRegression\n",
        "from sklearn.inspection import DecisionBoundaryDisplay\n",
        "\n",
        "# make 3-class dataset for classification\n",
        "centers = [[-5, 0], [0, 1.5], [5, -1]]\n",
        "X, y = make_blobs(n_samples=1000, centers=centers, random_state=40)\n",
        "transformation = [[0.4, 0.2], [-0.4, 1.2]]\n",
        "X = np.dot(X, transformation)\n",
        "\n",
        "clf = LogisticRegression(\n",
        "        solver=\"sag\", max_iter=100, random_state=42, multi_class=\"multinomial\"\n",
        "    ).fit(X, y)\n",
        "\n",
        "# print the training scores\n",
        "print(\"training score : %.3f (%s)\" % (clf.score(X, y), \"multinomial\"))\n",
        "\n",
        "_, ax = plt.subplots()\n",
        "DecisionBoundaryDisplay.from_estimator(clf, X, response_method=\"predict\", cmap=plt.cm.Paired, ax=ax)\n",
        "plt.title(\"Decision surface of LogisticRegression (%s)\" % \"multinomial\")\n",
        "plt.axis(\"tight\")\n",
        "\n",
        "# Plot also the training points\n",
        "colors = \"bry\"\n",
        "for i, color in zip(clf.classes_, colors):\n",
        "    idx = np.where(y == i)\n",
        "    plt.scatter(X[idx, 0], X[idx, 1], c=color, cmap=plt.cm.Paired, edgecolor=\"black\", s=20)\n",
        "\n",
        "# Plot the three one-against-all classifiers\n",
        "xmin, xmax = plt.xlim()\n",
        "ymin, ymax = plt.ylim()\n",
        "coef = clf.coef_\n",
        "intercept = clf.intercept_\n",
        "print(xmin, xmax)\n",
        "print(ymin, ymax)\n",
        "print('======')\n",
        "print(coef)\n",
        "print(intercept)\n",
        "def plot_hyperplane(c, color):\n",
        "  w = - (coef[c, 0] - coef[(c+1) % 3, 0]) / (coef[c, 1] - coef[(c+1) % 3, 1])\n",
        "  b = \n",
        "  def line(x0):\n",
        "      return (-(x0 * coef[c, 0]) - intercept[c]) / coef[c, 1]\n",
        "\n",
        "  plt.plot([xmin, xmax], [line(xmin), line(xmax)], ls=\"--\", color=color, label=f\"{w}x + {b}\")\n",
        "\n",
        "for i, color in zip(clf.classes_, colors):\n",
        "  plot_hyperplane(i, color)"
      ],
      "metadata": {
        "colab": {
          "base_uri": "https://localhost:8080/",
          "height": 636
        },
        "id": "BanUl4p9Ft9e",
        "outputId": "4b20a35a-9541-40ff-8d63-bc9c7259dc21"
      },
      "execution_count": 33,
      "outputs": [
        {
          "output_type": "stream",
          "name": "stdout",
          "text": [
            "training score : 0.995 (multinomial)\n",
            "-4.611241757981748 5.269091007054253\n",
            "-5.88341015185696 6.406472714716773\n",
            "======\n",
            "[[-4.51740321 -1.56048296]\n",
            " [-0.08918381  0.72635442]\n",
            " [ 4.60658703  0.83412854]]\n",
            "[-1.69874938  2.89695153 -1.19820215]\n"
          ]
        },
        {
          "output_type": "stream",
          "name": "stderr",
          "text": [
            "<ipython-input-33-c369893c2d57>:29: UserWarning: No data for colormapping provided via 'c'. Parameters 'cmap' will be ignored\n",
            "  plt.scatter(X[idx, 0], X[idx, 1], c=color, cmap=plt.cm.Paired, edgecolor=\"black\", s=20)\n"
          ]
        },
        {
          "output_type": "display_data",
          "data": {
            "text/plain": [
              "<Figure size 640x480 with 1 Axes>"
            ],
            "image/png": "[encoded data removed]"
          },
          "metadata": {}
        }
      ]
    },
    {
      "cell_type": "code",
      "source": [],
      "metadata": {
        "id": "ShOYj0BKKlix"
      },
      "execution_count": null,
      "outputs": []
    }
  ],
  "metadata": {
    "kernelspec": {
      "display_name": "Python 3",
      "language": "python",
      "name": "python3"
    },
    "language_info": {
      "codemirror_mode": {
        "name": "ipython",
        "version": 3
      },
      "file_extension": ".py",
      "mimetype": "text/x-python",
      "name": "python",
      "nbconvert_exporter": "python",
      "pygments_lexer": "ipython3",
      "version": "3.7.8"
    },
    "colab": {
      "provenance": []
    },
    "gpuClass": "standard"
  },
  "nbformat": 4,
  "nbformat_minor": 0
}